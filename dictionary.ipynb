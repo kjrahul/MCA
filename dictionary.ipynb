{
 "cells": [
  {
   "cell_type": "markdown",
   "metadata": {},
   "source": [
    "# Dictionaries\n",
    "\n",
    "* List is a collection which is ordered and changeable. Allows duplicate members.\n",
    "* Tuple is a collection which is ordered and unchangeable. Allows duplicate members.\n",
    "* Set is a collection which is unordered, unchangeable, and unindexed. No duplicate members.\n",
    "* Dictionary is a collection which is ordered and changeable. No duplicate members."
   ]
  },
  {
   "cell_type": "code",
   "execution_count": 7,
   "metadata": {},
   "outputs": [
    {
     "name": "stdout",
     "output_type": "stream",
     "text": [
      "{1: 'foo', 2: 'bar', 3: 'baz'}\n",
      "bar\n",
      "dict_keys([1, 2, 3])\n",
      "dict_values(['foo', 'bar', 'baz'])\n"
     ]
    }
   ],
   "source": [
    "mydict = {\n",
    "    1: \"foo\",\n",
    "    2: \"bar\",\n",
    "    3: \"baz\"\n",
    "}\n",
    "print(mydict)\n",
    "print(mydict[2])\n",
    "print(mydict.keys())\n",
    "print(mydict.values())"
   ]
  },
  {
   "cell_type": "code",
   "execution_count": 8,
   "metadata": {},
   "outputs": [
    {
     "name": "stdout",
     "output_type": "stream",
     "text": [
      "dict_items([(1, 'foo'), (2, 'bar'), (3, 'baz')])\n"
     ]
    }
   ],
   "source": [
    "# Return a list containing each item in the dictionary as tuples\n",
    "print(mydict.items())"
   ]
  },
  {
   "cell_type": "code",
   "execution_count": 13,
   "metadata": {},
   "outputs": [
    {
     "name": "stdout",
     "output_type": "stream",
     "text": [
      "{1: 'foo', 2: 'bar', 3: 'baz', 4: 'hey'}\n",
      "{1: 'foo', 2: 'bar', 3: 'baz'}\n"
     ]
    }
   ],
   "source": [
    "# Add items to a dictionary\n",
    "mydict[4] = \"hey\"\n",
    "print(mydict)\n",
    "\n",
    "# Remove an item from a dictionary\n",
    "mydict.pop(4)\n",
    "print(mydict)"
   ]
  },
  {
   "cell_type": "code",
   "execution_count": 22,
   "metadata": {},
   "outputs": [
    {
     "name": "stdout",
     "output_type": "stream",
     "text": [
      "1 2 3 \n",
      "\n",
      "foo bar baz \n",
      "\n",
      "1 foo\n",
      "2 bar\n",
      "3 baz\n"
     ]
    }
   ],
   "source": [
    "# Looping through a dictionary\n",
    "for key in mydict:\n",
    "    print(key, end=\" \")\n",
    "print(\"\\n\")\n",
    "for value in mydict.values():\n",
    "    print(value, end=\" \")\n",
    "print(\"\\n\")\n",
    "for key, value in mydict.items():\n",
    "    print(key, value)"
   ]
  },
  {
   "cell_type": "code",
   "execution_count": 28,
   "metadata": {},
   "outputs": [
    {
     "name": "stdout",
     "output_type": "stream",
     "text": [
      "{1: 'foo', 2: 'bar', 3: 'baz'} {1: 'foo', 2: 'bar', 3: 'baz', 'new': 'hello'} {1: 'foo', 2: 'bar', 3: 'baz'}\n"
     ]
    }
   ],
   "source": [
    "# Make a copy (if we use dict2 = dict1, changes to dict2 will reflect in changes to dict1)\n",
    "new = mydict.copy()\n",
    "new.update({\"new\": \"hello\"})\n",
    "# Another way to copy\n",
    "new2 = dict(mydict)\n",
    "print(mydict, new, new2)"
   ]
  }
 ],
 "metadata": {
  "kernelspec": {
   "display_name": "Python 3",
   "language": "python",
   "name": "python3"
  },
  "language_info": {
   "codemirror_mode": {
    "name": "ipython",
    "version": 3
   },
   "file_extension": ".py",
   "mimetype": "text/x-python",
   "name": "python",
   "nbconvert_exporter": "python",
   "pygments_lexer": "ipython3",
   "version": "3.11.3"
  }
 },
 "nbformat": 4,
 "nbformat_minor": 2
}
