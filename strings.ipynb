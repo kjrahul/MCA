{
 "cells": [
  {
   "cell_type": "markdown",
   "metadata": {},
   "source": [
    "# Strings"
   ]
  },
  {
   "cell_type": "code",
   "execution_count": 2,
   "metadata": {},
   "outputs": [
    {
     "name": "stdout",
     "output_type": "stream",
     "text": [
      "True\n",
      "False\n"
     ]
    }
   ],
   "source": [
    "# Check if something is in a string\n",
    "string = \"What is your name\"\n",
    "print(\"your\" in string)\n",
    "print(\"name\" not in string)"
   ]
  },
  {
   "cell_type": "code",
   "execution_count": 7,
   "metadata": {},
   "outputs": [
    {
     "data": {
      "text/plain": [
       "'name'"
      ]
     },
     "execution_count": 7,
     "metadata": {},
     "output_type": "execute_result"
    }
   ],
   "source": [
    "# Negative indexing: Return last 4 characters\n",
    "string[-4:]"
   ]
  },
  {
   "cell_type": "code",
   "execution_count": 12,
   "metadata": {},
   "outputs": [
    {
     "name": "stdout",
     "output_type": "stream",
     "text": [
      "HELLO hello\n"
     ]
    }
   ],
   "source": [
    "# Upper and lower cases\n",
    "string = \"Hello\"\n",
    "print(string.upper(), string.lower())"
   ]
  },
  {
   "cell_type": "code",
   "execution_count": 16,
   "metadata": {},
   "outputs": [
    {
     "name": "stdout",
     "output_type": "stream",
     "text": [
      "   Hello, world    \n",
      " Hello, world\n"
     ]
    }
   ],
   "source": [
    "# Remove whitespace from beginning or end\n",
    "string = \"   Hello, world   \"\n",
    "print(string,\"\\n\", string.strip())"
   ]
  },
  {
   "cell_type": "code",
   "execution_count": 17,
   "metadata": {},
   "outputs": [
    {
     "name": "stdout",
     "output_type": "stream",
     "text": [
      "hello $ow are you $arry\n"
     ]
    }
   ],
   "source": [
    "# Replace a character with another character\n",
    "string = input(\"String: \")\n",
    "print(string[0] + string[1:].replace(string[0], \"$\"))"
   ]
  },
  {
   "cell_type": "code",
   "execution_count": 19,
   "metadata": {},
   "outputs": [
    {
     "data": {
      "text/plain": [
       "['a', 'a', 'a', 'aa', 'a', 'aaa']"
      ]
     },
     "execution_count": 19,
     "metadata": {},
     "output_type": "execute_result"
    }
   ],
   "source": [
    "# Split at the occurences of a particular character\n",
    "string = \"ahahahaahahaaa\"\n",
    "string.split(\"h\")"
   ]
  },
  {
   "cell_type": "code",
   "execution_count": 22,
   "metadata": {},
   "outputs": [
    {
     "name": "stdout",
     "output_type": "stream",
     "text": [
      "I am 21 years old in 3 months\n"
     ]
    }
   ],
   "source": [
    "# Insert numbers into strings\n",
    "txt = \"I am {} years old in {} months\"\n",
    "print(txt.format(21, 3))"
   ]
  },
  {
   "cell_type": "code",
   "execution_count": 24,
   "metadata": {},
   "outputs": [
    {
     "data": {
      "text/plain": [
       "'Hey, \"YOU\"'"
      ]
     },
     "execution_count": 24,
     "metadata": {},
     "output_type": "execute_result"
    }
   ],
   "source": [
    "# Escape character '\\': To include invalid characters in a string\n",
    "string = \"Hey, \\\"YOU\\\"\"\n",
    "string"
   ]
  },
  {
   "cell_type": "markdown",
   "metadata": {},
   "source": [
    "## String Methods\n",
    "\n",
    "| Method         | Description                                                   |\n",
    "| -------------- | ------------------------------------------------------------- |\n",
    "| capitalize()   | Converts the first character to upper case                     |\n",
    "| count()        | Returns the number of times a specified value occurs in a string |\n",
    "| endswith()     | Returns true if the string ends with the specified value       |\n",
    "| find()         | Searches the string for a specified value and returns the position of where it was found |\n",
    "| format()       | Formats specified values in a string                           |\n",
    "| index()        | Searches the string for a specified value and returns the position of where it was found |\n",
    "| isalnum()      | Returns True if all characters in the string are alphanumeric |\n",
    "| isalpha()      | Returns True if all characters in the string are in the alphabet |\n",
    "| isdecimal()    | Returns True if all characters in the string are decimals      |\n",
    "| isdigit()      | Returns True if all characters in the string are digits        |\n",
    "| isidentifier() | Returns True if the string is an identifier                     |\n",
    "| islower()      | Returns True if all characters in the string are lowercase     |\n",
    "| isnumeric()    | Returns True if all characters in the string are numeric       |\n",
    "| isspace()      | Returns True if all characters in the string are whitespaces   |\n",
    "| istitle()      | Returns True if the string follows the rules of a title        |\n",
    "| isupper()      | Returns True if all characters in the string are uppercase     |\n",
    "| join()         | Joins the elements of an iterable to the end of the string      |\n",
    "| ljust()        | Returns a left-justified version of the string                 |\n",
    "| lower()        | Converts a string into lowercase                               |\n",
    "| lstrip()       | Returns a left-trimmed version of the string                   |\n",
    "| partition()    | Returns a tuple where the string is parted into three parts    |\n",
    "| replace()      | Returns a string where a specified value is replaced with another specified value |\n",
    "| rfind()        | Searches the string for a specified value and returns the last position of where it was found |\n",
    "| rindex()       | Searches the string for a specified value and returns the last position of where it was found |\n",
    "| rjust()        | Returns a right-justified version of the string                |\n",
    "| rpartition()   | Returns a tuple where the string is parted into three parts    |\n",
    "| rsplit()       | Splits the string at the specified separator and returns a list |\n",
    "| rstrip()       | Returns a right-trimmed version of the string                  |\n",
    "| split()        | Splits the string at the specified separator and returns a list |\n",
    "| splitlines()   | Splits the string at line breaks and returns a list            |\n",
    "| startswith()   | Returns true if the string starts with the specified value     |\n",
    "| strip()        | Returns a trimmed version of the string                         |\n",
    "| swapcase()     | Swaps cases, lower case becomes upper case and vice versa      |\n",
    "| title()        | Converts the first character of each word to uppercase         |\n",
    "| upper()        | Converts a string into uppercase                               |\n"
   ]
  }
 ],
 "metadata": {
  "kernelspec": {
   "display_name": "Python 3",
   "language": "python",
   "name": "python3"
  },
  "language_info": {
   "codemirror_mode": {
    "name": "ipython",
    "version": 3
   },
   "file_extension": ".py",
   "mimetype": "text/x-python",
   "name": "python",
   "nbconvert_exporter": "python",
   "pygments_lexer": "ipython3",
   "version": "3.11.3"
  }
 },
 "nbformat": 4,
 "nbformat_minor": 2
}
